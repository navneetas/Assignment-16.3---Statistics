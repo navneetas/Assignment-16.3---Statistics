{
 "cells": [
  {
   "cell_type": "code",
   "execution_count": 44,
   "metadata": {},
   "outputs": [],
   "source": [
    "import pandas as pd\n",
    "import numpy as np"
   ]
  },
  {
   "cell_type": "code",
   "execution_count": 56,
   "metadata": {},
   "outputs": [
    {
     "name": "stdout",
     "output_type": "stream",
     "text": [
      "   X  P(X)\n",
      "0  0  0.80\n",
      "1  1  0.10\n",
      "2  2  0.07\n",
      "3  3  0.03\n"
     ]
    }
   ],
   "source": [
    "\n",
    "i= [0,1,2,3]            #where i is the list of number of subjects failed          \n",
    "j=[80, 10, 7, 3]       #where j is the number of students failed in each i subjects\n",
    "sample = 100           # total number of students\n",
    "\n",
    "data = np.array(i)\n",
    "  \n",
    "df= pd.DataFrame({'X': data, 'P(X)':[y/sample for y in j]}, columns=['X','P(X)'])\n",
    "print(df)        \n",
    "       "
   ]
  },
  {
   "cell_type": "code",
   "execution_count": null,
   "metadata": {},
   "outputs": [],
   "source": []
  }
 ],
 "metadata": {
  "kernelspec": {
   "display_name": "Python 3",
   "language": "python",
   "name": "python3"
  },
  "language_info": {
   "codemirror_mode": {
    "name": "ipython",
    "version": 3
   },
   "file_extension": ".py",
   "mimetype": "text/x-python",
   "name": "python",
   "nbconvert_exporter": "python",
   "pygments_lexer": "ipython3",
   "version": "3.6.4"
  }
 },
 "nbformat": 4,
 "nbformat_minor": 2
}
